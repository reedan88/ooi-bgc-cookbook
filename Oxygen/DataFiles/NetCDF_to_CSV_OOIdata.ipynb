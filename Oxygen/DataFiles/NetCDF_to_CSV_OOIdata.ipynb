{
 "cells": [
  {
   "cell_type": "code",
   "execution_count": 29,
   "metadata": {},
   "outputs": [],
   "source": [
    "# Kristen Fogaren 8/10/2022\n",
    "# This code converts a downloaded netCDF file to a csv file of the same name\n",
    "\n",
    "# set up workspace \n",
    "import xarray as xr\n",
    "import glob"
   ]
  },
  {
   "cell_type": "code",
   "execution_count": 37,
   "metadata": {},
   "outputs": [
    {
     "data": {
      "text/plain": [
       "['deployment0008_CE04OSSM-RID27-03-CTDBPC000-recovered_host-ctdbp_cdef_dcl_instrument_recovered_20190420T201508.092000-20191021T190002.961000.nc',\n",
       " 'deployment0008_CE04OSSM-RID27-04-DOSTAD000-recovered_host-dosta_abcdjm_dcl_instrument_recovered_20190420T201517.159000-20191021T190317.762000.nc',\n",
       " 'deployment0009_CE04OSSM-RID27-03-CTDBPC000-recovered_host-ctdbp_cdef_dcl_instrument_recovered_20191021T180010.284000-20200711T141505.596000.nc',\n",
       " 'deployment0009_CE04OSSM-RID27-04-DOSTAD000-recovered_host-dosta_abcdjm_dcl_instrument_recovered_20191021T174307.464000-20200711T141801.400000.nc']"
      ]
     },
     "execution_count": 37,
     "metadata": {},
     "output_type": "execute_result"
    }
   ],
   "source": [
    "# Grab and sort all .nc files in the directory\n",
    "# Files have to be in the same directory as code \n",
    "files = glob.glob('*.nc')\n",
    "files = sorted(files)\n",
    "files"
   ]
  },
  {
   "cell_type": "code",
   "execution_count": 38,
   "metadata": {},
   "outputs": [],
   "source": [
    "for datafile in files:\n",
    "    DS = xr.open_dataset(datafile)\n",
    "    DS.to_dataframe().to_csv(datafile[:-3] + '.csv')"
   ]
  },
  {
   "cell_type": "code",
   "execution_count": null,
   "metadata": {},
   "outputs": [],
   "source": [
    "csvfiles = glob.glob('*.csv')\n",
    "csvfiles = sorted(csvfiles)\n",
    "csvfiles"
   ]
  }
 ],
 "metadata": {
  "kernelspec": {
   "display_name": "Python 3",
   "language": "python",
   "name": "python3"
  },
  "language_info": {
   "codemirror_mode": {
    "name": "ipython",
    "version": 3
   },
   "file_extension": ".py",
   "mimetype": "text/x-python",
   "name": "python",
   "nbconvert_exporter": "python",
   "pygments_lexer": "ipython3",
   "version": "3.8.3"
  }
 },
 "nbformat": 4,
 "nbformat_minor": 4
}
