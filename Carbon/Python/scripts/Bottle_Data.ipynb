{
 "cells": [
  {
   "cell_type": "markdown",
   "id": "9df5138b",
   "metadata": {},
   "source": [
    "# Bottle Data\n",
    "\n",
    "### Purpose\n",
    "This notebook provides a quick outline and example of working with OOI Discrete Summary Spreadsheet bottle data. It includes how to load it, how to parse data quality flags, how to derive some important values, and work with the data to make it easy to use for data validation and comparison purposes.\n",
    "\n",
    "### Background\n",
    "The Ocean Observatories Initiative (OOI) is an NSF-funded project for long-term (25 years) infrastructure for ocean observations. There are three main elements of OOI: (1) The Regional Cabled Array off the coast of Washington; (2) the Endurance Array on the Oregon-Washington shelf; and (3) the Coastal & Global Scale Nodes with mooring arrays in the Irminger Sea (Irminger Sea Array), at Ocean Station Papa (Papa Array), in the Southern Ocean and Argentine Basin (descoped and no longer collecting data), and at the New England Shelf (Pioneer Array-NES).\n",
    "\n",
    "OOI deploys a variety of instrumentation that aim to measure the physical, chemical, and biological components of ocean activity. For data validation and comparison purposes with instrumentation, OOI also performs CTD casts and collects Niskin bottles for laboratory analysis during deployment and recovery of each mooring at each instrument depth. The laboratory analysis include:\n",
    "* Oxygen\n",
    "* Salinity\n",
    "* Nutrients (Nitrate, Nitrite, Ammonium, Phosphate, Silicate)\n",
    "* Chlorophyll\n",
    "* Carbon System (at least two of DIC/TA/pH/pCO2)\n",
    "\n",
    "### Data\n",
    "The cruise data is hosted on OOI's Alfresco document server at https://alfresco.oceanobservatories.org, hereafter reffered to as Alfresco. Cruise data is hosted under OOI > {Array} > Cruise Data > {Cruise}. Cruise data includes the following key pieces of information: Cruise Reports; Ship Data (e.g. sonars, underway instruments, etc.); CTD; and Water Sampling Data.\n",
    "\n",
    "We are principally concerned with the Water Sampling data, which can be found under {Cruise} > Ship Data > Water Sampling. The Water Sampling folder contains both digitized and scanned CTD logs as well as the results from the labs for each measured parameter. Helpfully, the CTD Bottle Data (.btl files) have been merged with the laboratory results and the CTD Sampling Logs to create **Discrete Summary Spreadsheet** of the water sampling data. These are the best place to start when working with OOI Bottle Data and are the data sources that we will be using in this example notebook."
   ]
  },
  {
   "cell_type": "code",
   "execution_count": 1,
   "id": "61147f2e",
   "metadata": {},
   "outputs": [],
   "source": [
    "import os, sys, re\n",
    "import numpy as np\n",
    "import pandas as pd\n",
    "import PyQt5\n",
    "import warnings\n",
    "warnings.filterwarnings(\"ignore\")"
   ]
  },
  {
   "cell_type": "code",
   "execution_count": 2,
   "id": "94a911c2",
   "metadata": {},
   "outputs": [],
   "source": [
    "sys.path.append(\"/home/areed/Documents/OOI/reedan88/ooinet/\")\n",
    "from ooinet.Bottles import *"
   ]
  },
  {
   "cell_type": "code",
   "execution_count": 3,
   "id": "12c76c6f",
   "metadata": {},
   "outputs": [],
   "source": [
    "import matplotlib.pyplot as plt\n",
    "%matplotlib inline"
   ]
  },
  {
   "cell_type": "markdown",
   "id": "c01612ef",
   "metadata": {},
   "source": [
    "---\n",
    "### Niskin & Discrete Bottle Sampling\n",
    "These are discrete water samples collected via Niskin Bottle casts during deployment and recovery of the moored instrumentation. The data is downloaded from OOI Alfresco website as excel files. Parameters sampled are:\n",
    "* Oxygen\n",
    "* Salinity\n",
    "* Nutrients: phosphate, nitrate, nitrite, ammonium, silicate\n",
    "* Chlorophyll\n",
    "* Carbon system: Dissolved inorganic carbon, total alkalinity, pH\n",
    "\n",
    "First, we're going to load, clean, and process the discrete water sampling."
   ]
  },
  {
   "cell_type": "code",
   "execution_count": 4,
   "id": "79906460",
   "metadata": {},
   "outputs": [
    {
     "data": {
      "text/html": [
       "<div>\n",
       "<style scoped>\n",
       "    .dataframe tbody tr th:only-of-type {\n",
       "        vertical-align: middle;\n",
       "    }\n",
       "\n",
       "    .dataframe tbody tr th {\n",
       "        vertical-align: top;\n",
       "    }\n",
       "\n",
       "    .dataframe thead th {\n",
       "        text-align: right;\n",
       "    }\n",
       "</style>\n",
       "<table border=\"1\" class=\"dataframe\">\n",
       "  <thead>\n",
       "    <tr style=\"text-align: right;\">\n",
       "      <th></th>\n",
       "      <th>Cruise</th>\n",
       "      <th>Station</th>\n",
       "      <th>Target Asset</th>\n",
       "      <th>Start Latitude [degrees]</th>\n",
       "      <th>Start Longitude [degrees]</th>\n",
       "      <th>Start Time [UTC]</th>\n",
       "      <th>Cast</th>\n",
       "      <th>Cast Flag</th>\n",
       "      <th>Bottom Depth at Start Position [m]</th>\n",
       "      <th>CTD File</th>\n",
       "      <th>...</th>\n",
       "      <th>Discrete pH Replicate Flag</th>\n",
       "      <th>Calculated Alkalinity [umol/kg]</th>\n",
       "      <th>Calculated DIC [umol/kg]</th>\n",
       "      <th>Calculated pCO2 [uatm]</th>\n",
       "      <th>Calculated pH</th>\n",
       "      <th>Calculated CO2aq [umol/kg]</th>\n",
       "      <th>Calculated Bicarb [umol/kg]</th>\n",
       "      <th>Calculated CO3 [umol/kg]</th>\n",
       "      <th>Calculated Omega-C</th>\n",
       "      <th>Calculated Omega-A</th>\n",
       "    </tr>\n",
       "  </thead>\n",
       "  <tbody>\n",
       "    <tr>\n",
       "      <th>0</th>\n",
       "      <td>AT30-01</td>\n",
       "      <td>1</td>\n",
       "      <td>release test</td>\n",
       "      <td>42.547833</td>\n",
       "      <td>-62.584</td>\n",
       "      <td>2015-08-07T12:39:53.000Z</td>\n",
       "      <td>1</td>\n",
       "      <td>*0000000000000100</td>\n",
       "      <td>1723</td>\n",
       "      <td>C:\\data\\ctd\\at30_001.hex</td>\n",
       "      <td>...</td>\n",
       "      <td>-9999999</td>\n",
       "      <td>-9999999</td>\n",
       "      <td>-9999999</td>\n",
       "      <td>-9999999</td>\n",
       "      <td>-9999999</td>\n",
       "      <td>-9999999</td>\n",
       "      <td>-9999999</td>\n",
       "      <td>-9999999</td>\n",
       "      <td>-9999999</td>\n",
       "      <td>-9999999</td>\n",
       "    </tr>\n",
       "    <tr>\n",
       "      <th>1</th>\n",
       "      <td>AT30-01</td>\n",
       "      <td>1</td>\n",
       "      <td>release test</td>\n",
       "      <td>42.547833</td>\n",
       "      <td>-62.584</td>\n",
       "      <td>2015-08-07T12:39:53.000Z</td>\n",
       "      <td>1</td>\n",
       "      <td>*0000000000000100</td>\n",
       "      <td>1723</td>\n",
       "      <td>C:\\data\\ctd\\at30_001.hex</td>\n",
       "      <td>...</td>\n",
       "      <td>-9999999</td>\n",
       "      <td>-9999999</td>\n",
       "      <td>-9999999</td>\n",
       "      <td>-9999999</td>\n",
       "      <td>-9999999</td>\n",
       "      <td>-9999999</td>\n",
       "      <td>-9999999</td>\n",
       "      <td>-9999999</td>\n",
       "      <td>-9999999</td>\n",
       "      <td>-9999999</td>\n",
       "    </tr>\n",
       "    <tr>\n",
       "      <th>2</th>\n",
       "      <td>AT30-01</td>\n",
       "      <td>1</td>\n",
       "      <td>release test</td>\n",
       "      <td>42.547833</td>\n",
       "      <td>-62.584</td>\n",
       "      <td>2015-08-07T12:39:53.000Z</td>\n",
       "      <td>1</td>\n",
       "      <td>*0000000000000100</td>\n",
       "      <td>1723</td>\n",
       "      <td>C:\\data\\ctd\\at30_001.hex</td>\n",
       "      <td>...</td>\n",
       "      <td>-9999999</td>\n",
       "      <td>-9999999</td>\n",
       "      <td>-9999999</td>\n",
       "      <td>-9999999</td>\n",
       "      <td>-9999999</td>\n",
       "      <td>-9999999</td>\n",
       "      <td>-9999999</td>\n",
       "      <td>-9999999</td>\n",
       "      <td>-9999999</td>\n",
       "      <td>-9999999</td>\n",
       "    </tr>\n",
       "    <tr>\n",
       "      <th>3</th>\n",
       "      <td>AT30-01</td>\n",
       "      <td>1</td>\n",
       "      <td>release test</td>\n",
       "      <td>42.547833</td>\n",
       "      <td>-62.584</td>\n",
       "      <td>2015-08-07T12:39:53.000Z</td>\n",
       "      <td>1</td>\n",
       "      <td>*0000000000000100</td>\n",
       "      <td>1723</td>\n",
       "      <td>C:\\data\\ctd\\at30_001.hex</td>\n",
       "      <td>...</td>\n",
       "      <td>-9999999</td>\n",
       "      <td>-9999999</td>\n",
       "      <td>-9999999</td>\n",
       "      <td>-9999999</td>\n",
       "      <td>-9999999</td>\n",
       "      <td>-9999999</td>\n",
       "      <td>-9999999</td>\n",
       "      <td>-9999999</td>\n",
       "      <td>-9999999</td>\n",
       "      <td>-9999999</td>\n",
       "    </tr>\n",
       "    <tr>\n",
       "      <th>4</th>\n",
       "      <td>AT30-01</td>\n",
       "      <td>1</td>\n",
       "      <td>release test</td>\n",
       "      <td>42.547833</td>\n",
       "      <td>-62.584</td>\n",
       "      <td>2015-08-07T12:39:53.000Z</td>\n",
       "      <td>1</td>\n",
       "      <td>*0000000000000100</td>\n",
       "      <td>1723</td>\n",
       "      <td>C:\\data\\ctd\\at30_001.hex</td>\n",
       "      <td>...</td>\n",
       "      <td>-9999999</td>\n",
       "      <td>-9999999</td>\n",
       "      <td>-9999999</td>\n",
       "      <td>-9999999</td>\n",
       "      <td>-9999999</td>\n",
       "      <td>-9999999</td>\n",
       "      <td>-9999999</td>\n",
       "      <td>-9999999</td>\n",
       "      <td>-9999999</td>\n",
       "      <td>-9999999</td>\n",
       "    </tr>\n",
       "  </tbody>\n",
       "</table>\n",
       "<p>5 rows × 80 columns</p>\n",
       "</div>"
      ],
      "text/plain": [
       "    Cruise  Station  Target Asset  Start Latitude [degrees]  \\\n",
       "0  AT30-01        1  release test                 42.547833   \n",
       "1  AT30-01        1  release test                 42.547833   \n",
       "2  AT30-01        1  release test                 42.547833   \n",
       "3  AT30-01        1  release test                 42.547833   \n",
       "4  AT30-01        1  release test                 42.547833   \n",
       "\n",
       "   Start Longitude [degrees]          Start Time [UTC]  Cast  \\\n",
       "0                    -62.584  2015-08-07T12:39:53.000Z     1   \n",
       "1                    -62.584  2015-08-07T12:39:53.000Z     1   \n",
       "2                    -62.584  2015-08-07T12:39:53.000Z     1   \n",
       "3                    -62.584  2015-08-07T12:39:53.000Z     1   \n",
       "4                    -62.584  2015-08-07T12:39:53.000Z     1   \n",
       "\n",
       "           Cast Flag  Bottom Depth at Start Position [m]  \\\n",
       "0  *0000000000000100                                1723   \n",
       "1  *0000000000000100                                1723   \n",
       "2  *0000000000000100                                1723   \n",
       "3  *0000000000000100                                1723   \n",
       "4  *0000000000000100                                1723   \n",
       "\n",
       "                   CTD File  ... Discrete pH Replicate Flag  \\\n",
       "0  C:\\data\\ctd\\at30_001.hex  ...                   -9999999   \n",
       "1  C:\\data\\ctd\\at30_001.hex  ...                   -9999999   \n",
       "2  C:\\data\\ctd\\at30_001.hex  ...                   -9999999   \n",
       "3  C:\\data\\ctd\\at30_001.hex  ...                   -9999999   \n",
       "4  C:\\data\\ctd\\at30_001.hex  ...                   -9999999   \n",
       "\n",
       "   Calculated Alkalinity [umol/kg] Calculated DIC [umol/kg]  \\\n",
       "0                         -9999999                 -9999999   \n",
       "1                         -9999999                 -9999999   \n",
       "2                         -9999999                 -9999999   \n",
       "3                         -9999999                 -9999999   \n",
       "4                         -9999999                 -9999999   \n",
       "\n",
       "  Calculated pCO2 [uatm]  Calculated pH Calculated CO2aq [umol/kg]  \\\n",
       "0               -9999999       -9999999                   -9999999   \n",
       "1               -9999999       -9999999                   -9999999   \n",
       "2               -9999999       -9999999                   -9999999   \n",
       "3               -9999999       -9999999                   -9999999   \n",
       "4               -9999999       -9999999                   -9999999   \n",
       "\n",
       "   Calculated Bicarb [umol/kg]  Calculated CO3 [umol/kg]  Calculated Omega-C  \\\n",
       "0                     -9999999                  -9999999            -9999999   \n",
       "1                     -9999999                  -9999999            -9999999   \n",
       "2                     -9999999                  -9999999            -9999999   \n",
       "3                     -9999999                  -9999999            -9999999   \n",
       "4                     -9999999                  -9999999            -9999999   \n",
       "\n",
       "   Calculated Omega-A  \n",
       "0            -9999999  \n",
       "1            -9999999  \n",
       "2            -9999999  \n",
       "3            -9999999  \n",
       "4            -9999999  \n",
       "\n",
       "[5 rows x 80 columns]"
      ]
     },
     "execution_count": 4,
     "metadata": {},
     "output_type": "execute_result"
    }
   ],
   "source": [
    "bottle_data = pd.read_excel(\"../data/bottle_data/Irminger_Sea-02_AT30-01_Discrete_Summary.xlsx\")\n",
    "bottle_data.head()"
   ]
  },
  {
   "cell_type": "markdown",
   "id": "a52676a6",
   "metadata": {},
   "source": [
    "Replace the fill value of ```-9999999``` with NaNs. Some columns were imported as floats and others as strings or objects, so this needs to be done twice:"
   ]
  },
  {
   "cell_type": "code",
   "execution_count": 5,
   "id": "27cc03da",
   "metadata": {},
   "outputs": [],
   "source": [
    "bottle_data = bottle_data.replace(to_replace=\"-9999999\", value=np.nan)\n",
    "bottle_data = bottle_data.replace(to_replace=-9999999, value=np.nan)"
   ]
  },
  {
   "cell_type": "markdown",
   "id": "0dc9e9cd",
   "metadata": {},
   "source": [
    "Convert times from strings to pandas datetime objects and remove the timezone:"
   ]
  },
  {
   "cell_type": "code",
   "execution_count": 6,
   "id": "c62222dd",
   "metadata": {},
   "outputs": [],
   "source": [
    "bottle_data[\"Start Time [UTC]\"] = bottle_data[\"Start Time [UTC]\"].apply(lambda x: convert_times(x))\n",
    "bottle_data[\"CTD Bottle Closure Time [UTC]\"] = bottle_data[\"CTD Bottle Closure Time [UTC]\"].apply(lambda x: convert_times(x))"
   ]
  },
  {
   "cell_type": "markdown",
   "id": "1286ffe0",
   "metadata": {},
   "source": [
    "Some of the data returned from the labs which process samples contain non-numeric indicators for if data were below detection threshold. These entries typically have a \"less than\" sign. Convert any values with a \"<\", which indicates a value not statistically significant from zero, with zero:"
   ]
  },
  {
   "cell_type": "code",
   "execution_count": 7,
   "id": "96ce4835",
   "metadata": {},
   "outputs": [],
   "source": [
    "bottle_data = bottle_data.applymap(not_statistically_sigificant)"
   ]
  },
  {
   "cell_type": "markdown",
   "id": "675ee946",
   "metadata": {},
   "source": [
    "#### Filter data\n",
    "Next, we want to filter the data based on the data flag associated with the sample. First, we should drop all of the ```NaN``` values in the Niskin column to eliminate entries without any bottle samples. While these CTD casts may be of interest, the bottle data does not have any data of which we can make use of."
   ]
  },
  {
   "cell_type": "code",
   "execution_count": 8,
   "id": "d432f088",
   "metadata": {},
   "outputs": [],
   "source": [
    "bottle_data = bottle_data.dropna(subset=[\"Niskin/Bottle Position\"])"
   ]
  },
  {
   "cell_type": "markdown",
   "id": "7ad10a64",
   "metadata": {},
   "source": [
    "#### Interpret Flags\n",
    "Next, we want to parse the Data Quality Flags in the bottle data. \n",
    "\n",
    "We intrept the data into the standard QARTOD flaging scheme of:\n",
    "* 1 = good\n",
    "* 2 = not run\n",
    "* 3 = suspect\n",
    "* 4 = bad\n",
    "* 9 = missing\n",
    "\n",
    "The \"Replicate Flags\" are reduced into a boolean value indicating that either there is a replicate sample or not. By replicate, we mean if there are more than one sample collected from a depth, e.g. two Niskins were closed at a particular depth and oxygen sampled from both. It does *not* mean that a particular analysis was repeated on the same sample multiple times, e.g. repeating nutrient analysis on a single Niskin to derive a final value."
   ]
  },
  {
   "cell_type": "code",
   "execution_count": 9,
   "id": "1bd77294",
   "metadata": {},
   "outputs": [],
   "source": [
    "for col in bottle_data.columns:\n",
    "    if \"Flag\" in col:\n",
    "        if \"CTD\" in col and \"File\" not in col:\n",
    "            bottle_data[col] = bottle_data[col].apply(lambda x: interp_ctd_flag(x))\n",
    "        elif \"Discrete\" in col:\n",
    "            bottle_data[col] = bottle_data[col].apply(lambda x: interp_discrete_flag(x))\n",
    "        elif \"Replicate\" in col:\n",
    "            bottle_data[col] = bottle_data[col].apply(lambda x: interp_replicate_flag(x))\n",
    "        elif \"Niskin\" in col:\n",
    "            bottle_data[col] = bottle_data[col].apply(lambda x: interp_niskin_flag(x))\n",
    "        else:\n",
    "            pass"
   ]
  },
  {
   "cell_type": "markdown",
   "id": "605c8999",
   "metadata": {},
   "source": [
    "---\n",
    "### Calculate Physical Properties\n",
    "With the bottle samples cleaned up and the flags parsed into something simpler and easier to read, we next want to calculate the conservative seawater properties, such as density, conservative temperature, absolute salinity, etc., using the updated Thermodynamic Equations of State - 2010 (TEOS-10) algorithms. These are implemented with the ```gsw``` package. \n",
    "\n",
    "This step will allow us to correct for pressure and temperature effect between lab analysis and in-situ measurements, as well as allow for better comparison between depths and locations in the same array. "
   ]
  },
  {
   "cell_type": "code",
   "execution_count": 10,
   "id": "2e187ac4",
   "metadata": {},
   "outputs": [],
   "source": [
    "import gsw"
   ]
  },
  {
   "cell_type": "markdown",
   "id": "8e23058d",
   "metadata": {},
   "source": [
    "Get the measured parameters, taking the average if measured by more than one sensor"
   ]
  },
  {
   "cell_type": "code",
   "execution_count": 11,
   "id": "8069111f",
   "metadata": {},
   "outputs": [],
   "source": [
    "SP = bottle_data[[\"CTD Salinity 1 [psu]\", \"CTD Salinity 2 [psu]\"]].mean(axis=1, skipna=True)\n",
    "T = bottle_data[[\"CTD Temperature 1 [deg C]\", \"CTD Temperature 2 [deg C]\"]].mean(axis=1, skipna=True)\n",
    "P = bottle_data[\"CTD Pressure [db]\"]\n",
    "LAT = bottle_data[\"CTD Latitude [deg]\"]\n",
    "LON = bottle_data[\"CTD Longitude [deg]\"]"
   ]
  },
  {
   "cell_type": "markdown",
   "id": "c7dbcd67",
   "metadata": {},
   "source": [
    "Calculate the conservative temperature, absolute salinity, density, and potential density of the observations"
   ]
  },
  {
   "cell_type": "code",
   "execution_count": 12,
   "id": "4ae3701f",
   "metadata": {},
   "outputs": [],
   "source": [
    "# Absolute salinity\n",
    "SA = gsw.conversions.SA_from_SP(SP, P, LON, LAT)\n",
    "bottle_data[\"CTD Absolute Salinity [g/kg]\"] = SA\n",
    "\n",
    "# Conservative temperature\n",
    "CT = gsw.conversions.CT_from_t(SA, T, P)\n",
    "bottle_data[\"CTD Conservative Temperature\"] = CT\n",
    "\n",
    "# Density\n",
    "RHO = gsw.density.rho(SA, CT, P)\n",
    "bottle_data[\"CTD Density [kg/m^3]\"] = RHO\n",
    "\n",
    "# Calculate potential density\n",
    "SIGMA0 = gsw.density.sigma0(SA, CT)\n",
    "bottle_data[\"CTD Sigma [kg/m^3]\"] = RHO\n",
    "\n",
    "del SP, T, P, LAT, LON, SA, CT, RHO, SIGMA0"
   ]
  },
  {
   "cell_type": "markdown",
   "id": "428e8266",
   "metadata": {},
   "source": [
    "---\n",
    "## Calculate Carbon System Parameters\n",
    "The discrete water samples were tested for Total Alkalinity, Dissolved Inorganic Carbon, and pH [Total Scale]. We can calculate the discrete water sample pCO<sub>2</sub> concentrations from the TA and DIC using the ```CO2SYS``` program. Implementation in python is achieved using the PyCO2SYS package. Full documentation on how to install and use PyCO2SYS can be found at https://pyco2sys.readthedocs.io/en/latest/. \n",
    "\n",
    "For our purposes, we will be utilizing the following inputs:\n",
    "* ```PAR1```: First measured carbon system measurement\n",
    "* ```PAR2```: Second measured carbon system measurement\n",
    "* ```PAR1_type```: The type of PAR1 \n",
    "        * 1 = Total Alkalinity umol/kg\n",
    "        * 2 = DIC umol/kg\n",
    "        * 3 = pH Total Scale\n",
    "        * 4 = pCO2\n",
    "        * 5 = fCO2\n",
    "* ```PAR2_type```: The type of PAR2\n",
    "\n",
    "\n",
    "We will also use the following optional hydrographic inputs:\n",
    "* ```salinity```: practical salinity\n",
    "* ```temperature```: the temperature at which PAR1 and PAR2 are provided (in C)\n",
    "* ```pressure```: the water pressure at which ```PAR1``` and ```PAR2``` are measured\n",
    "\n",
    "Additionally, we will pass in some of the nutrient data that we collect:\n",
    "* ```SIO4```: discrete silicate\n",
    "* ```PO4```: discrete phosphate\n",
    "* ```NH4```: discrete ammonia\n",
    "\n",
    "The nutrient values need to be (1) converted to umol/kg from uM and (2) have NaNs filled in with 0, which is the default value."
   ]
  },
  {
   "cell_type": "code",
   "execution_count": 13,
   "id": "ef3b7321",
   "metadata": {},
   "outputs": [],
   "source": [
    "import PyCO2SYS as pyco2"
   ]
  },
  {
   "cell_type": "code",
   "execution_count": 14,
   "id": "15bb53f3",
   "metadata": {},
   "outputs": [],
   "source": [
    "# Get the key parameters\n",
    "DIC = bottle_data[\"Discrete DIC [umol/kg]\"]\n",
    "TA = bottle_data[\"Discrete Alkalinity [umol/kg]\"]\n",
    "PH = bottle_data[\"Discrete pH [Total scale]\"]\n",
    "SAL = bottle_data[\"Discrete Salinity [psu]\"]\n",
    "\n",
    "# Set the input hydrographic parameters at which the DIC/TA/pH lab measurements were performed\n",
    "TEMP_IN = 25\n",
    "PRES_IN = 0\n",
    "\n",
    "# Get the hydrographic parameters at which the samples were taken\n",
    "TEMP_OUT = bottle_data[[\"CTD Temperature 1 [deg C]\",\"CTD Temperature 1 [deg C]\"]].mean(axis=1, skipna=True)\n",
    "PRES_OUT = bottle_data[\"CTD Pressure [db]\"]\n",
    "RHO = bottle_data[\"CTD Density [kg/m^3]\"]\n",
    "\n",
    "# Nutrient inputs = need to fill NaNs with zeros otherwise will return NaNs\n",
    "SIO4 = bottle_data[\"Discrete Silicate [uM]\"].fillna(value=0)\n",
    "PO4 = bottle_data[\"Discrete Phosphate [uM]\"].fillna(value=0)\n",
    "NH4 = bottle_data[\"Discrete Ammonium [uM]\"].fillna(value=0)\n",
    "\n",
    "# Convert to umol/kg\n",
    "SIO4 = SIO4*(1000/1)*(1/RHO)\n",
    "PO4 = PO4*(1000/1)*(1/RHO)\n",
    "NH4 = NH4*(1000/1)*(1/RHO)"
   ]
  },
  {
   "cell_type": "markdown",
   "id": "66a62f46",
   "metadata": {},
   "source": [
    "Declare the parameter input types to pass into ```CO2SYS```"
   ]
  },
  {
   "cell_type": "code",
   "execution_count": 15,
   "id": "7089c91f",
   "metadata": {},
   "outputs": [],
   "source": [
    "PAR1 = bottle_data['Discrete Alkalinity [umol/kg]']\n",
    "PAR2 = bottle_data['Discrete DIC [umol/kg]']\n",
    "PAR1TYPE = 1\n",
    "PAR2TYPE = 2\n",
    "PHSCALEIN = 1\n",
    "K1K2CONSTANTS = 1\n",
    "K2SO4CONSTANTS = 1"
   ]
  },
  {
   "cell_type": "markdown",
   "id": "5af017ca",
   "metadata": {},
   "source": [
    "#### Calculate Carbon System\n",
    "With all of the mandatory and optional carbon system parameters selected, we now calculate the carbon system for the bottle data"
   ]
  },
  {
   "cell_type": "code",
   "execution_count": 16,
   "id": "f735df6c",
   "metadata": {},
   "outputs": [],
   "source": [
    "CO2dict = pyco2.CO2SYS(PAR1, PAR2, PAR1TYPE, PAR2TYPE, SAL, TEMP_IN, TEMP_OUT, PRES_IN, PRES_OUT, SIO4, PO4, PHSCALEIN, K1K2CONSTANTS, K2SO4CONSTANTS)"
   ]
  },
  {
   "cell_type": "markdown",
   "id": "bc20920b",
   "metadata": {},
   "source": [
    "Now add the calculate carbon system parameters to the bottle data"
   ]
  },
  {
   "cell_type": "code",
   "execution_count": 17,
   "id": "1afa59c7",
   "metadata": {},
   "outputs": [],
   "source": [
    "bottle_data['Calculated Alkalinity [umol/kg]'] = CO2dict['TAlk']\n",
    "bottle_data['Calculated CO2aq [umol/kg]'] = CO2dict['CO2out']\n",
    "bottle_data['Calculated CO3 [umol/kg]'] = CO2dict['CO3out']\n",
    "bottle_data['Calculated DIC [umol/kg]'] = CO2dict['TCO2']\n",
    "bottle_data['Calculated pCO2 [uatm]'] = CO2dict['pCO2out']\n",
    "bottle_data['Calculated pCO2 [lab conditions]'] = CO2dict['pCO2in']\n",
    "bottle_data['Calculated pH [lab conditions]'] = CO2dict['pHinTOTAL']\n",
    "derivedPH = pd.Series(data=CO2dict[\"pHoutTOTAL\"], index=bottle_data.index)"
   ]
  },
  {
   "cell_type": "markdown",
   "id": "c392ad0b",
   "metadata": {},
   "source": [
    "### Assessment\n",
    "We can check on how well ```CO2SYS``` reconstructed the carbon system by comparing the **Calculated pH**, derived from the DIC and TA, against the **Discrete pH**. This serves as an independent check and bound on the error introduced by the carbonate system algorithms. "
   ]
  },
  {
   "cell_type": "code",
   "execution_count": 19,
   "id": "c8841442",
   "metadata": {},
   "outputs": [
    {
     "data": {
      "text/html": [
       "<div>\n",
       "<style scoped>\n",
       "    .dataframe tbody tr th:only-of-type {\n",
       "        vertical-align: middle;\n",
       "    }\n",
       "\n",
       "    .dataframe tbody tr th {\n",
       "        vertical-align: top;\n",
       "    }\n",
       "\n",
       "    .dataframe thead th {\n",
       "        text-align: right;\n",
       "    }\n",
       "</style>\n",
       "<table border=\"1\" class=\"dataframe\">\n",
       "  <thead>\n",
       "    <tr style=\"text-align: right;\">\n",
       "      <th></th>\n",
       "      <th>Discrete pH [Total scale]</th>\n",
       "      <th>Calculated pH [lab conditions]</th>\n",
       "    </tr>\n",
       "  </thead>\n",
       "  <tbody>\n",
       "    <tr>\n",
       "      <th>42</th>\n",
       "      <td>7.7018</td>\n",
       "      <td>7.729633</td>\n",
       "    </tr>\n",
       "    <tr>\n",
       "      <th>47</th>\n",
       "      <td>7.8202</td>\n",
       "      <td>7.844386</td>\n",
       "    </tr>\n",
       "    <tr>\n",
       "      <th>48</th>\n",
       "      <td>7.8196</td>\n",
       "      <td>7.884067</td>\n",
       "    </tr>\n",
       "    <tr>\n",
       "      <th>50</th>\n",
       "      <td>7.8268</td>\n",
       "      <td>7.841813</td>\n",
       "    </tr>\n",
       "    <tr>\n",
       "      <th>123</th>\n",
       "      <td>7.8240</td>\n",
       "      <td>7.836911</td>\n",
       "    </tr>\n",
       "    <tr>\n",
       "      <th>135</th>\n",
       "      <td>7.7386</td>\n",
       "      <td>7.754857</td>\n",
       "    </tr>\n",
       "    <tr>\n",
       "      <th>148</th>\n",
       "      <td>7.8202</td>\n",
       "      <td>7.827224</td>\n",
       "    </tr>\n",
       "    <tr>\n",
       "      <th>167</th>\n",
       "      <td>7.7192</td>\n",
       "      <td>7.726856</td>\n",
       "    </tr>\n",
       "    <tr>\n",
       "      <th>172</th>\n",
       "      <td>7.8336</td>\n",
       "      <td>7.823105</td>\n",
       "    </tr>\n",
       "    <tr>\n",
       "      <th>173</th>\n",
       "      <td>7.8332</td>\n",
       "      <td>7.815021</td>\n",
       "    </tr>\n",
       "    <tr>\n",
       "      <th>175</th>\n",
       "      <td>7.8329</td>\n",
       "      <td>7.824954</td>\n",
       "    </tr>\n",
       "  </tbody>\n",
       "</table>\n",
       "</div>"
      ],
      "text/plain": [
       "     Discrete pH [Total scale]  Calculated pH [lab conditions]\n",
       "42                      7.7018                        7.729633\n",
       "47                      7.8202                        7.844386\n",
       "48                      7.8196                        7.884067\n",
       "50                      7.8268                        7.841813\n",
       "123                     7.8240                        7.836911\n",
       "135                     7.7386                        7.754857\n",
       "148                     7.8202                        7.827224\n",
       "167                     7.7192                        7.726856\n",
       "172                     7.8336                        7.823105\n",
       "173                     7.8332                        7.815021\n",
       "175                     7.8329                        7.824954"
      ]
     },
     "execution_count": 19,
     "metadata": {},
     "output_type": "execute_result"
    }
   ],
   "source": [
    "bottle_data[[\"Discrete pH [Total scale]\",\"Calculated pH [lab conditions]\"]].dropna()"
   ]
  },
  {
   "cell_type": "markdown",
   "id": "685785e4",
   "metadata": {},
   "source": [
    "#### Adjust Discrete pH\n",
    "\n",
    "Next, we need to adjust the **Discrete pH** to in-situ conditions. We'll do this by passing in the measured **Discrete pH** along with the **Discrete Alkalinity** and adjusting it to the in-situ conditions. To do this we only need to adjust the previous parameters such that ```PAR2``` is the **Discrete pH \\[Total Scale\\]** and ```PAR2TYPE``` is set to **3**."
   ]
  },
  {
   "cell_type": "code",
   "execution_count": 20,
   "id": "cdd1733f",
   "metadata": {},
   "outputs": [],
   "source": [
    "PHout = CO2dict[\"pHinTOTAL\"]\n",
    "df = pd.DataFrame(data=[PH.values, PHout], index=[\"Measured\", \"CO2sys\"]).T.dropna()\n",
    "df = df[df[\"CO2sys\"] > 7]\n",
    "df = df.sort_values(by=\"Measured\")\n",
    "PHmeas = df[\"Measured\"].values.reshape(-1,1)\n",
    "PHcalc = df[\"CO2sys\"].values.reshape(-1,1)"
   ]
  },
  {
   "cell_type": "code",
   "execution_count": 21,
   "id": "6802bee9",
   "metadata": {},
   "outputs": [],
   "source": [
    "# Use sklearn linear regression model to determine the accuracy \n",
    "from sklearn.linear_model import LinearRegression\n",
    "from sklearn.metrics import mean_squared_error\n",
    "\n",
    "# Fit a linear regression to the measured vs calculated pH values\n",
    "regression = LinearRegression()\n",
    "regression.fit(PHmeas, PHcalc)\n",
    "\n",
    "# Get the regression values\n",
    "PHpred = regression.predict(PHmeas)\n",
    "PHmse = mean_squared_error(PHpred, PHcalc)\n",
    "PHstd = np.sqrt(PHmse)"
   ]
  },
  {
   "cell_type": "code",
   "execution_count": 22,
   "id": "99fed9b2",
   "metadata": {},
   "outputs": [
    {
     "data": {
      "image/png": "[encoded data removed]",
      "text/plain": [
       "<Figure size 1200x800 with 1 Axes>"
      ]
     },
     "metadata": {},
     "output_type": "display_data"
    }
   ],
   "source": [
    "# Look at how closely the pH measurements match each other\n",
    "fig, ax = plt.subplots(nrows=1, ncols=1, figsize=(12,8))\n",
    "ax.scatter(PHmeas, PHcalc)\n",
    "ax.plot(PHmeas, PHpred, c='r', label='Regression')\n",
    "\n",
    "#ax.fill_between(PHmeas, PHpred-1.96*PHstd, PHpred+1.96*PHstd, color=\"tab:red\")\n",
    "ax.plot(PHmeas, PHpred-1.96*PHstd, ':', c='r', label='2 Stds')\n",
    "ax.plot(PHmeas, PHpred+1.96*PHstd, ':', c='r')\n",
    "ax.set_xlabel('Discrete pH\\n[Total Scale, T=25$^{\\circ}$C]', fontsize=12)\n",
    "ax.set_ylabel('CO2SYS-calculated pH\\n[Total Scale, T=25$^{\\circ}$C]', fontsize=12)\n",
    "ax.text(0.8,0.4,f'Std: {PHstd.round(3)}', fontsize='16', transform=ax.transAxes)\n",
    "ax.legend(fontsize=12)\n",
    "ax.grid()"
   ]
  },
  {
   "cell_type": "code",
   "execution_count": 23,
   "id": "f17b7d05",
   "metadata": {},
   "outputs": [
    {
     "data": {
      "text/plain": [
       "(array([[0.89931728]]), array([0.79766301]))"
      ]
     },
     "execution_count": 23,
     "metadata": {},
     "output_type": "execute_result"
    }
   ],
   "source": [
    "regression.coef_, regression.intercept_"
   ]
  },
  {
   "cell_type": "markdown",
   "id": "1116122c",
   "metadata": {},
   "source": [
    "#### Adjust Discrete pH\n",
    "\n",
    "Next, we need to adjust the **Discrete pH** to in-situ conditions. We'll do this by passing in the measured **Discrete pH** along with the **Discrete Alkalinity** and adjusting it to the in-situ conditions. To do this we only need to adjust the previous parameters such that ```PAR2``` is the **Discrete pH \\[Total Scale\\]** and ```PAR2TYPE``` is set to **3**."
   ]
  },
  {
   "cell_type": "code",
   "execution_count": 24,
   "id": "c815f9cf",
   "metadata": {},
   "outputs": [],
   "source": [
    "PAR1 = bottle_data['Discrete Alkalinity [umol/kg]']\n",
    "PAR2 = bottle_data['Discrete pH [Total scale]']\n",
    "PAR1TYPE = 1\n",
    "PAR2TYPE = 3"
   ]
  },
  {
   "cell_type": "markdown",
   "id": "97e04d5f",
   "metadata": {},
   "source": [
    "Recalculate the carbon system to get the in-situ pH"
   ]
  },
  {
   "cell_type": "code",
   "execution_count": 25,
   "id": "046c6a10",
   "metadata": {},
   "outputs": [],
   "source": [
    "CO2dict = pyco2.CO2SYS(PAR1, PAR2, PAR1TYPE, PAR2TYPE, SAL, TEMP_IN, TEMP_OUT, PRES_IN, PRES_OUT, SIO4, PO4, PHSCALEIN, K1K2CONSTANTS, K2SO4CONSTANTS)"
   ]
  },
  {
   "cell_type": "code",
   "execution_count": 26,
   "id": "55ec43d7",
   "metadata": {},
   "outputs": [
    {
     "data": {
      "text/html": [
       "<div>\n",
       "<style scoped>\n",
       "    .dataframe tbody tr th:only-of-type {\n",
       "        vertical-align: middle;\n",
       "    }\n",
       "\n",
       "    .dataframe tbody tr th {\n",
       "        vertical-align: top;\n",
       "    }\n",
       "\n",
       "    .dataframe thead th {\n",
       "        text-align: right;\n",
       "    }\n",
       "</style>\n",
       "<table border=\"1\" class=\"dataframe\">\n",
       "  <thead>\n",
       "    <tr style=\"text-align: right;\">\n",
       "      <th></th>\n",
       "      <th>Discrete pH [Total scale]</th>\n",
       "      <th>Calculated pH [lab conditions]</th>\n",
       "      <th>Calculated pH</th>\n",
       "    </tr>\n",
       "  </thead>\n",
       "  <tbody>\n",
       "    <tr>\n",
       "      <th>42</th>\n",
       "      <td>7.7018</td>\n",
       "      <td>7.729633</td>\n",
       "      <td>8.021301</td>\n",
       "    </tr>\n",
       "    <tr>\n",
       "      <th>47</th>\n",
       "      <td>7.8202</td>\n",
       "      <td>7.844386</td>\n",
       "      <td>8.092480</td>\n",
       "    </tr>\n",
       "    <tr>\n",
       "      <th>48</th>\n",
       "      <td>7.8196</td>\n",
       "      <td>7.884067</td>\n",
       "      <td>8.091827</td>\n",
       "    </tr>\n",
       "    <tr>\n",
       "      <th>50</th>\n",
       "      <td>7.8268</td>\n",
       "      <td>7.841813</td>\n",
       "      <td>8.093763</td>\n",
       "    </tr>\n",
       "    <tr>\n",
       "      <th>123</th>\n",
       "      <td>7.8240</td>\n",
       "      <td>7.836911</td>\n",
       "      <td>8.094680</td>\n",
       "    </tr>\n",
       "    <tr>\n",
       "      <th>135</th>\n",
       "      <td>7.7386</td>\n",
       "      <td>7.754857</td>\n",
       "      <td>8.047948</td>\n",
       "    </tr>\n",
       "    <tr>\n",
       "      <th>148</th>\n",
       "      <td>7.8202</td>\n",
       "      <td>7.827224</td>\n",
       "      <td>8.096595</td>\n",
       "    </tr>\n",
       "    <tr>\n",
       "      <th>167</th>\n",
       "      <td>7.7192</td>\n",
       "      <td>7.726856</td>\n",
       "      <td>8.023363</td>\n",
       "    </tr>\n",
       "    <tr>\n",
       "      <th>172</th>\n",
       "      <td>7.8336</td>\n",
       "      <td>7.823105</td>\n",
       "      <td>8.097088</td>\n",
       "    </tr>\n",
       "    <tr>\n",
       "      <th>173</th>\n",
       "      <td>7.8332</td>\n",
       "      <td>7.815021</td>\n",
       "      <td>8.097010</td>\n",
       "    </tr>\n",
       "    <tr>\n",
       "      <th>175</th>\n",
       "      <td>7.8329</td>\n",
       "      <td>7.824954</td>\n",
       "      <td>8.097150</td>\n",
       "    </tr>\n",
       "  </tbody>\n",
       "</table>\n",
       "</div>"
      ],
      "text/plain": [
       "     Discrete pH [Total scale]  Calculated pH [lab conditions]  Calculated pH\n",
       "42                      7.7018                        7.729633       8.021301\n",
       "47                      7.8202                        7.844386       8.092480\n",
       "48                      7.8196                        7.884067       8.091827\n",
       "50                      7.8268                        7.841813       8.093763\n",
       "123                     7.8240                        7.836911       8.094680\n",
       "135                     7.7386                        7.754857       8.047948\n",
       "148                     7.8202                        7.827224       8.096595\n",
       "167                     7.7192                        7.726856       8.023363\n",
       "172                     7.8336                        7.823105       8.097088\n",
       "173                     7.8332                        7.815021       8.097010\n",
       "175                     7.8329                        7.824954       8.097150"
      ]
     },
     "execution_count": 26,
     "metadata": {},
     "output_type": "execute_result"
    }
   ],
   "source": [
    "bottle_data[\"Calculated pH\"] = CO2dict[\"pHoutTOTAL\"]\n",
    "# Fill in missing \"Calculate pH\" with the derived pH to increase the number of pH observations\n",
    "bottle_data[\"Calculated pH\"].fillna(value=derivedPH, inplace=True)\n",
    "bottle_data[[\"Discrete pH [Total scale]\",\"Calculated pH [lab conditions]\",\"Calculated pH\"]].dropna()"
   ]
  },
  {
   "cell_type": "markdown",
   "id": "78a834d6",
   "metadata": {},
   "source": [
    "---\n",
    "### Save the Results\n",
    "Finally, with the carbon system results fully derived, save the results to the data directory with the other bottle data (or wherever you want to save the data)"
   ]
  },
  {
   "cell_type": "code",
   "execution_count": null,
   "id": "8d5dff80",
   "metadata": {},
   "outputs": [],
   "source": [
    "bottle_data.to_csv(\"insert_path_here.csv\")"
   ]
  }
 ],
 "metadata": {
  "kernelspec": {
   "display_name": "Python 3 (ipykernel)",
   "language": "python",
   "name": "python3"
  },
  "language_info": {
   "codemirror_mode": {
    "name": "ipython",
    "version": 3
   },
   "file_extension": ".py",
   "mimetype": "text/x-python",
   "name": "python",
   "nbconvert_exporter": "python",
   "pygments_lexer": "ipython3",
   "version": "3.9.12"
  }
 },
 "nbformat": 4,
 "nbformat_minor": 5
}
